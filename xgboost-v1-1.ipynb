{
 "cells": [
  {
   "cell_type": "code",
   "execution_count": 1,
   "id": "ac1b4430",
   "metadata": {
    "_cell_guid": "b1076dfc-b9ad-4769-8c92-a6c4dae69d19",
    "_uuid": "8f2839f25d086af736a60e9eeb907d3b93b6e0e5",
    "execution": {
     "iopub.execute_input": "2022-08-27T09:23:47.002845Z",
     "iopub.status.busy": "2022-08-27T09:23:47.001953Z",
     "iopub.status.idle": "2022-08-27T09:23:47.015712Z",
     "shell.execute_reply": "2022-08-27T09:23:47.014719Z"
    },
    "papermill": {
     "duration": 0.023124,
     "end_time": "2022-08-27T09:23:47.019018",
     "exception": false,
     "start_time": "2022-08-27T09:23:46.995894",
     "status": "completed"
    },
    "tags": []
   },
   "outputs": [
    {
     "name": "stdout",
     "output_type": "stream",
     "text": [
      "/kaggle/input/ventilator-pressure-prediction/sample_submission.csv\n",
      "/kaggle/input/ventilator-pressure-prediction/train.csv\n",
      "/kaggle/input/ventilator-pressure-prediction/test.csv\n"
     ]
    }
   ],
   "source": [
    "# This Python 3 environment comes with many helpful analytics libraries installed\n",
    "# It is defined by the kaggle/python Docker image: https://github.com/kaggle/docker-python\n",
    "# For example, here's several helpful packages to load\n",
    "\n",
    "import numpy as np # linear algebra\n",
    "import pandas as pd # data processing, CSV file I/O (e.g. pd.read_csv)\n",
    "\n",
    "# Input data files are available in the read-only \"../input/\" directory\n",
    "# For example, running this (by clicking run or pressing Shift+Enter) will list all files under the input directory\n",
    "\n",
    "import os\n",
    "for dirname, _, filenames in os.walk('/kaggle/input'):\n",
    "    for filename in filenames:\n",
    "        print(os.path.join(dirname, filename))\n",
    "\n",
    "# You can write up to 20GB to the current directory (/kaggle/working/) that gets preserved as output when you create a version using \"Save & Run All\" \n",
    "# You can also write temporary files to /kaggle/temp/, but they won't be saved outside of the current session"
   ]
  },
  {
   "cell_type": "code",
   "execution_count": 2,
   "id": "992ba2ce",
   "metadata": {
    "execution": {
     "iopub.execute_input": "2022-08-27T09:23:47.028892Z",
     "iopub.status.busy": "2022-08-27T09:23:47.028020Z",
     "iopub.status.idle": "2022-08-27T09:23:48.917109Z",
     "shell.execute_reply": "2022-08-27T09:23:48.915620Z"
    },
    "papermill": {
     "duration": 1.895925,
     "end_time": "2022-08-27T09:23:48.919509",
     "exception": false,
     "start_time": "2022-08-27T09:23:47.023584",
     "status": "completed"
    },
    "tags": []
   },
   "outputs": [
    {
     "name": "stdout",
     "output_type": "stream",
     "text": [
      "Started\n",
      "Pandas version -  1.3.5\n",
      "All necessary libraries imported\n"
     ]
    }
   ],
   "source": [
    "print(\"Started\")\n",
    "import numpy as np, pandas as pd\n",
    "print(\"Pandas version - \", pd.__version__)\n",
    "from pandas import MultiIndex, Int16Dtype\n",
    "\n",
    "try:\n",
    "    import seaborn as sns\n",
    "except:\n",
    "    !pip install seaborn\n",
    "    import seaborn as sns\n",
    "import matplotlib.pyplot as plt\n",
    "import time\n",
    "#import cupy, cudf\n",
    "%matplotlib inline\n",
    "\n",
    "from sklearn.model_selection import train_test_split\n",
    "from sklearn.preprocessing import MinMaxScaler\n",
    "from sklearn.model_selection import GridSearchCV\n",
    "\n",
    "# Importing RFE and LinearRegression\n",
    "try:\n",
    "    import statsmodels.api as sm\n",
    "except:\n",
    "    !python -m pip install statsmodels\n",
    "    import statsmodels.api as sm\n",
    "\n",
    "from sklearn.feature_selection import RFE\n",
    "from sklearn.linear_model import LinearRegression\n",
    "from sklearn.ensemble import RandomForestRegressor\n",
    "from sklearn import linear_model,tree,svm\n",
    "\n",
    "try:\n",
    "    import pickle\n",
    "except:\n",
    "    !pip install pickle5\n",
    "    import pickle\n",
    "\n",
    "from sklearn.metrics import mean_absolute_error\n",
    "print(\"All necessary libraries imported\")\n"
   ]
  },
  {
   "cell_type": "code",
   "execution_count": 3,
   "id": "8e75de69",
   "metadata": {
    "execution": {
     "iopub.execute_input": "2022-08-27T09:23:48.928492Z",
     "iopub.status.busy": "2022-08-27T09:23:48.928197Z",
     "iopub.status.idle": "2022-08-27T09:24:01.708574Z",
     "shell.execute_reply": "2022-08-27T09:24:01.706878Z"
    },
    "papermill": {
     "duration": 12.787955,
     "end_time": "2022-08-27T09:24:01.711533",
     "exception": false,
     "start_time": "2022-08-27T09:23:48.923578",
     "status": "completed"
    },
    "tags": []
   },
   "outputs": [
    {
     "name": "stdout",
     "output_type": "stream",
     "text": [
      "(6036000, 8)  - Training dataset shape\n",
      "(4024000, 7)  - Testing dataset shape\n",
      "(4024000, 2)  - Sample Submission dataset shape\n"
     ]
    }
   ],
   "source": [
    "# Not going to use testdf and sample df for thesis\n",
    "traindf = pd.read_csv('../input/ventilator-pressure-prediction/train.csv')\n",
    "testdf = pd.read_csv('../input/ventilator-pressure-prediction/test.csv')\n",
    "sample_sub = pd.read_csv('../input/ventilator-pressure-prediction/sample_submission.csv')\n",
    "\n",
    "split= False\n",
    "\n",
    "print(traindf.shape, \" - Training dataset shape\")\n",
    "print(testdf.shape, \" - Testing dataset shape\")\n",
    "print(sample_sub.shape, \" - Sample Submission dataset shape\")"
   ]
  },
  {
   "cell_type": "code",
   "execution_count": 4,
   "id": "6a9009c0",
   "metadata": {
    "execution": {
     "iopub.execute_input": "2022-08-27T09:24:01.721634Z",
     "iopub.status.busy": "2022-08-27T09:24:01.721327Z",
     "iopub.status.idle": "2022-08-27T09:24:01.736242Z",
     "shell.execute_reply": "2022-08-27T09:24:01.735189Z"
    },
    "papermill": {
     "duration": 0.022108,
     "end_time": "2022-08-27T09:24:01.738453",
     "exception": false,
     "start_time": "2022-08-27T09:24:01.716345",
     "status": "completed"
    },
    "tags": []
   },
   "outputs": [],
   "source": [
    "# Adding features in the dataframe\n",
    "\n",
    "def add_features(df):\n",
    "    #https://www.kaggle.com/code/papernist/google-brain\n",
    "    df = df.copy()\n",
    "    \n",
    "    df_group = df.groupby(['breath_id'])\n",
    "    \n",
    "    \n",
    "    feature_list = ['u_in', 'time_step', 'cross']\n",
    "    \n",
    "    df['cross']= df['u_in'] * df['u_out']\n",
    "    df['area_out']= df['time_step'] * df['u_out']\n",
    "    df['area'] = df['time_step'] * df['u_in']\n",
    "    \n",
    "    # add\n",
    "    df['air_flow_rate'] = df['u_out'] - (df['u_in']/100.0)\n",
    "    df['air_flow_area'] = df['air_flow_rate'] * df['time_step']\n",
    "    print(\"Step-1...Completed\")\n",
    "    \n",
    "    # cumsum cummean\n",
    "    df['one'] = 1\n",
    "    df['count'] = df_group['one'].cumsum()\n",
    "    for feature in feature_list:\n",
    "        df[f'{feature}_cumsum'] = df_group[feature].cumsum()\n",
    "        df[f'{feature}_cummean'] = df[f'{feature}_cumsum'] / df['count']\n",
    "        \n",
    "    print(\"Step-2 cumsum cummean ...Completed\")\n",
    "    # lagging\n",
    "    use_lags = 4\n",
    "    for lag in range(1, use_lags+1):\n",
    "        for feature in feature_list:\n",
    "            # lag \n",
    "            df[f'{feature}_lag_{lag}'] = df_group[feature].shift(lag)\n",
    "            # inverse lag\n",
    "            df[f'{feature}_lag_inverse_{lag}'] = df_group[feature].shift(-lag)\n",
    "\n",
    "            # dif lag\n",
    "            df[f'{feature}_lag_diff_{lag}'] = df[feature] - df[f'{feature}_lag_{lag}']\n",
    "\n",
    "            # dif inverse lag\n",
    "            df[f'{feature}_lag_inverse_diff_{lag}'] = df[feature] - df[f'{feature}_lag_inverse_{lag}']\n",
    "\n",
    "            df = df.drop(columns=[f'{feature}_lag_{lag}', f'{feature}_lag_inverse_{lag}'])\n",
    "        \n",
    "    df = df.fillna(0)\n",
    "    print(\"Step-3 lagging ...Completed\")\n",
    "    \n",
    "    \n",
    "    df['R'] = df['R'].astype(str)\n",
    "    df['C'] = df['C'].astype(str)\n",
    "    df['R__C'] = df[\"R\"].astype(str) + '__' + df[\"C\"].astype(str)\n",
    "    df = pd.get_dummies(df)\n",
    "    df = df.fillna(0)\n",
    "    print(\"Step-4 categorical ...Completed\")\n",
    "    \n",
    "    rolling_list = [15]\n",
    "    for roll in rolling_list:\n",
    "        for feature in feature_list:\n",
    "            df[[f'{roll}_{feature}_sum',f'{roll}_{feature}_min',\n",
    "                f'{roll}_{feature}_max',f'{roll}_{feature}_mean']] = (df_group[feature]\\\n",
    "                                                                  .rolling(window=roll,min_periods=1)\\\n",
    "                                                                  .agg({f'{roll}_{feature}_sum':'sum',\n",
    "                                                                        f'{roll}_{feature}_min':'min',\n",
    "                                                                        f'{roll}_{feature}_max':'max',\n",
    "                                                                        f'{roll}_{feature}_mean':'mean'})\\\n",
    "                                                                   .reset_index(level=0,drop=True))\n",
    "    \n",
    "    print(\"Step-5 Sliding window...Completed\")\n",
    "    print()\n",
    "    \n",
    "    df = df.fillna(0)\n",
    "    df = df.drop(['id', 'breath_id','one','count'], axis=1)\n",
    "    \n",
    "    return df.astype(np.float16)"
   ]
  },
  {
   "cell_type": "code",
   "execution_count": 5,
   "id": "c5874608",
   "metadata": {
    "execution": {
     "iopub.execute_input": "2022-08-27T09:24:01.747419Z",
     "iopub.status.busy": "2022-08-27T09:24:01.747157Z",
     "iopub.status.idle": "2022-08-27T09:24:01.754604Z",
     "shell.execute_reply": "2022-08-27T09:24:01.753588Z"
    },
    "papermill": {
     "duration": 0.014107,
     "end_time": "2022-08-27T09:24:01.756584",
     "exception": false,
     "start_time": "2022-08-27T09:24:01.742477",
     "status": "completed"
    },
    "tags": []
   },
   "outputs": [],
   "source": [
    "def cross_val(model):\n",
    "    pred = cross_val_score(model, X_train, y_train, cv=10)\n",
    "    return pred.mean()\n",
    "\n",
    "\n",
    "def print_evaluate(true, predicted):  \n",
    "    mae = metrics.mean_absolute_error(true, predicted)\n",
    "    mse = metrics.mean_squared_error(true, predicted)\n",
    "    rmse = np.sqrt(metrics.mean_squared_error(true, predicted))\n",
    "    r2_square = metrics.r2_score(true, predicted)\n",
    "    print('MAE:', mae)\n",
    "    print('MSE:', mse)\n",
    "    print('RMSE:', rmse)\n",
    "    print('R2 Square', r2_square)\n",
    "    print('__________________________________')\n",
    "    \n",
    "def evaluate(true, predicted):\n",
    "    mae = metrics.mean_absolute_error(true, predicted)\n",
    "    mse = metrics.mean_squared_error(true, predicted)\n",
    "    rmse = np.sqrt(metrics.mean_squared_error(true, predicted))\n",
    "    r2_square = metrics.r2_score(true, predicted)\n",
    "    return mae, mse, rmse, r2_square    "
   ]
  },
  {
   "cell_type": "code",
   "execution_count": 6,
   "id": "b5665f3c",
   "metadata": {
    "execution": {
     "iopub.execute_input": "2022-08-27T09:24:01.765983Z",
     "iopub.status.busy": "2022-08-27T09:24:01.765503Z",
     "iopub.status.idle": "2022-08-27T09:25:59.645017Z",
     "shell.execute_reply": "2022-08-27T09:25:59.642636Z"
    },
    "papermill": {
     "duration": 117.887396,
     "end_time": "2022-08-27T09:25:59.647979",
     "exception": false,
     "start_time": "2022-08-27T09:24:01.760583",
     "status": "completed"
    },
    "tags": []
   },
   "outputs": [
    {
     "name": "stdout",
     "output_type": "stream",
     "text": [
      "Step-1...Completed\n",
      "Step-2 cumsum cummean ...Completed\n",
      "Step-3 lagging ...Completed\n",
      "Step-4 categorical ...Completed\n",
      "Step-5 Sliding window...Completed\n",
      "\n",
      "**********************************************************************\n",
      "(6036000, 66)  - Feature added training dataset shape\n",
      "CPU times: user 1min 33s, sys: 24.2 s, total: 1min 57s\n",
      "Wall time: 1min 57s\n"
     ]
    }
   ],
   "source": [
    "%%time\n",
    "train = add_features(traindf)\n",
    "#test = add_features(testdf)\n",
    "\n",
    "print(\"*\"*70)\n",
    "print(train.shape, \" - Feature added training dataset shape\")\n",
    "#print(test.shape, \" - Features added testing dataset shape\")"
   ]
  },
  {
   "cell_type": "code",
   "execution_count": 7,
   "id": "2fb8140c",
   "metadata": {
    "execution": {
     "iopub.execute_input": "2022-08-27T09:25:59.659882Z",
     "iopub.status.busy": "2022-08-27T09:25:59.658037Z",
     "iopub.status.idle": "2022-08-27T09:27:09.937391Z",
     "shell.execute_reply": "2022-08-27T09:27:09.936383Z"
    },
    "papermill": {
     "duration": 70.291159,
     "end_time": "2022-08-27T09:27:09.943908",
     "exception": false,
     "start_time": "2022-08-27T09:25:59.652749",
     "status": "completed"
    },
    "tags": []
   },
   "outputs": [
    {
     "name": "stdout",
     "output_type": "stream",
     "text": [
      "16 Number of Binary Categorical Columns\n",
      "50 Number of Numerical Columns\n",
      "66 Sum of Binary & Numerical Columns\n"
     ]
    }
   ],
   "source": [
    "binary_col = []\n",
    "num_col = []\n",
    "\n",
    "for columnname in train.columns:\n",
    "  if len(set(train[columnname])) != 2:\n",
    "    num_col.append(columnname)\n",
    "  else:\n",
    "    binary_col.append(columnname)\n",
    "\n",
    "train_numcol = num_col.copy()\n",
    "train_numcol.remove('pressure')\n",
    "\n",
    "print(len(binary_col), \"Number of Binary Categorical Columns\")\n",
    "print(len(num_col),\"Number of Numerical Columns\")\n",
    "print(len(binary_col)+len(num_col), \"Sum of Binary & Numerical Columns\")"
   ]
  },
  {
   "cell_type": "code",
   "execution_count": 8,
   "id": "9efefc61",
   "metadata": {
    "execution": {
     "iopub.execute_input": "2022-08-27T09:27:09.955515Z",
     "iopub.status.busy": "2022-08-27T09:27:09.953838Z",
     "iopub.status.idle": "2022-08-27T09:27:09.962314Z",
     "shell.execute_reply": "2022-08-27T09:27:09.961390Z"
    },
    "papermill": {
     "duration": 0.016161,
     "end_time": "2022-08-27T09:27:09.964364",
     "exception": false,
     "start_time": "2022-08-27T09:27:09.948203",
     "status": "completed"
    },
    "tags": []
   },
   "outputs": [],
   "source": [
    "def cross_val(model):\n",
    "    pred = cross_val_score(model, X_train, y_train, cv=10)\n",
    "    return pred.mean()\n",
    "\n",
    "def print_evaluate(true, predicted):  \n",
    "    mae = metrics.mean_absolute_error(true, predicted)\n",
    "    mse = metrics.mean_squared_error(true, predicted)\n",
    "    rmse = np.sqrt(metrics.mean_squared_error(true, predicted))\n",
    "    r2_square = metrics.r2_score(true, predicted)\n",
    "    print('MAE:', mae)\n",
    "    print('MSE:', mse)\n",
    "    print('RMSE:', rmse)\n",
    "    print('R2 Square', r2_square)\n",
    "    print('__________________________________')\n",
    "    \n",
    "def evaluate(true, predicted):\n",
    "    mae = metrics.mean_absolute_error(true, predicted)\n",
    "    mse = metrics.mean_squared_error(true, predicted)\n",
    "    rmse = np.sqrt(metrics.mean_squared_error(true, predicted))\n",
    "    r2_square = metrics.r2_score(true, predicted)\n",
    "    return mae, mse, rmse, r2_square    "
   ]
  },
  {
   "cell_type": "code",
   "execution_count": 9,
   "id": "dafea956",
   "metadata": {
    "execution": {
     "iopub.execute_input": "2022-08-27T09:27:09.974651Z",
     "iopub.status.busy": "2022-08-27T09:27:09.974362Z",
     "iopub.status.idle": "2022-08-27T09:27:18.028107Z",
     "shell.execute_reply": "2022-08-27T09:27:18.026791Z"
    },
    "papermill": {
     "duration": 8.062182,
     "end_time": "2022-08-27T09:27:18.031009",
     "exception": false,
     "start_time": "2022-08-27T09:27:09.968827",
     "status": "completed"
    },
    "tags": []
   },
   "outputs": [
    {
     "name": "stdout",
     "output_type": "stream",
     "text": [
      "Split Done\n",
      "**********************************************************************\n",
      "Splitting the data into X train & Y train\n",
      "(4225200, 65) X train shape\n",
      "(4225200,) Y train shape\n",
      "**********************************************************************\n",
      "Splitting the data into X test & Y test\n",
      "(1810800, 65) X test shape\n",
      "(1810800,) Y test shape\n"
     ]
    }
   ],
   "source": [
    "df_train, df_test = train_test_split(train, train_size = 0.7, test_size = 0.3, random_state = 100)\n",
    "print(\"Split Done\")\n",
    "\n",
    "from sklearn import metrics\n",
    "from sklearn import preprocessing\n",
    "from sklearn.tree import DecisionTreeRegressor\n",
    "from sklearn.model_selection import GridSearchCV, cross_val_score, cross_val_predict, train_test_split\n",
    "\n",
    "y_train = df_train['pressure']\n",
    "X_train = df_train.drop('pressure',axis=1)\n",
    "X_train_copy = X_train.copy()\n",
    "\n",
    "y_test = df_test['pressure']\n",
    "X_test = df_test.drop('pressure',axis=1)\n",
    "X_test_copy = X_test.copy()\n",
    "\n",
    "print(\"*\"*70)\n",
    "print(\"Splitting the data into X train & Y train\")\n",
    "print(X_train.shape, \"X train shape\")\n",
    "print(y_train.shape, \"Y train shape\")\n",
    "\n",
    "print(\"*\"*70)\n",
    "print(\"Splitting the data into X test & Y test\")\n",
    "print(X_test.shape, \"X test shape\")\n",
    "print(y_test.shape, \"Y test shape\")"
   ]
  },
  {
   "cell_type": "code",
   "execution_count": 10,
   "id": "d6ccb089",
   "metadata": {
    "execution": {
     "iopub.execute_input": "2022-08-27T09:27:18.042976Z",
     "iopub.status.busy": "2022-08-27T09:27:18.041457Z",
     "iopub.status.idle": "2022-08-27T09:27:40.911443Z",
     "shell.execute_reply": "2022-08-27T09:27:40.910168Z"
    },
    "papermill": {
     "duration": 22.878776,
     "end_time": "2022-08-27T09:27:40.914615",
     "exception": false,
     "start_time": "2022-08-27T09:27:18.035839",
     "status": "completed"
    },
    "tags": []
   },
   "outputs": [],
   "source": [
    "from sklearn.preprocessing import StandardScaler\n",
    "from sklearn.pipeline import Pipeline\n",
    "\n",
    "pipeline = Pipeline([\n",
    "    ('std_scalar', MinMaxScaler())\n",
    "])\n",
    "\n",
    "X_train = pipeline.fit_transform(X_train)\n",
    "X_test = pipeline.transform(X_test)"
   ]
  },
  {
   "cell_type": "code",
   "execution_count": 11,
   "id": "5bd91674",
   "metadata": {
    "execution": {
     "iopub.execute_input": "2022-08-27T09:27:40.929642Z",
     "iopub.status.busy": "2022-08-27T09:27:40.929305Z",
     "iopub.status.idle": "2022-08-27T09:27:40.933997Z",
     "shell.execute_reply": "2022-08-27T09:27:40.932955Z"
    },
    "papermill": {
     "duration": 0.01508,
     "end_time": "2022-08-27T09:27:40.936652",
     "exception": false,
     "start_time": "2022-08-27T09:27:40.921572",
     "status": "completed"
    },
    "tags": []
   },
   "outputs": [],
   "source": [
    "results_df = []"
   ]
  },
  {
   "cell_type": "code",
   "execution_count": 12,
   "id": "ac3f3d2b",
   "metadata": {
    "execution": {
     "iopub.execute_input": "2022-08-27T09:27:40.950412Z",
     "iopub.status.busy": "2022-08-27T09:27:40.950158Z",
     "iopub.status.idle": "2022-08-27T15:08:28.076315Z",
     "shell.execute_reply": "2022-08-27T15:08:28.075150Z"
    },
    "papermill": {
     "duration": 20447.136478,
     "end_time": "2022-08-27T15:08:28.079438",
     "exception": false,
     "start_time": "2022-08-27T09:27:40.942960",
     "status": "completed"
    },
    "tags": []
   },
   "outputs": [
    {
     "name": "stdout",
     "output_type": "stream",
     "text": [
      "Test set evaluation:\n",
      "_____________________________________\n",
      "MAE: 0.34474668\n",
      "MSE: 0.3489646\n",
      "RMSE: 0.5907323\n",
      "R2 Square 0.9946851851753531\n",
      "__________________________________\n",
      "====================================\n",
      "Train set evaluation:\n",
      "_____________________________________\n",
      "MAE: 0.2186829\n",
      "MSE: 0.10867333\n",
      "RMSE: 0.32965636\n",
      "R2 Square 0.9983485384825508\n",
      "__________________________________\n"
     ]
    }
   ],
   "source": [
    "#XG Boost model with GPU Hist method\n",
    "from xgboost import XGBRegressor\n",
    "xgb=XGBRegressor(learning_rate = 0.1, n_estimators = 10000,max_depth =9,\n",
    "                n_jobs = 16, tree_method = 'gpu_hist')\n",
    "model = xgb.fit(X_train,y_train)\n",
    "pred = model.predict(X_test)\n",
    "\n",
    "test_pred = model.predict(X_test)\n",
    "train_pred = model.predict(X_train)\n",
    "\n",
    "print('Test set evaluation:\\n_____________________________________')\n",
    "print_evaluate(y_test, test_pred)\n",
    "print('====================================')\n",
    "print('Train set evaluation:\\n_____________________________________')\n",
    "print_evaluate(y_train, train_pred)\n",
    "\n",
    "results_df_2 = pd.DataFrame(data=[[\"Xgboost Regression\", *evaluate(y_test, test_pred) , cross_val(XGBRegressor())]], \n",
    "                            columns=['Model', 'MAE', 'MSE', 'RMSE', 'R2 Square', \"Cross Validation\"])\n",
    "#results_df = results_df.append(results_df_2, ignore_index=True)"
   ]
  },
  {
   "cell_type": "code",
   "execution_count": 13,
   "id": "a054197b",
   "metadata": {
    "execution": {
     "iopub.execute_input": "2022-08-27T15:08:28.090489Z",
     "iopub.status.busy": "2022-08-27T15:08:28.090135Z",
     "iopub.status.idle": "2022-08-27T15:08:28.109995Z",
     "shell.execute_reply": "2022-08-27T15:08:28.108605Z"
    },
    "papermill": {
     "duration": 0.028443,
     "end_time": "2022-08-27T15:08:28.112919",
     "exception": false,
     "start_time": "2022-08-27T15:08:28.084476",
     "status": "completed"
    },
    "tags": []
   },
   "outputs": [
    {
     "data": {
      "text/html": [
       "<div>\n",
       "<style scoped>\n",
       "    .dataframe tbody tr th:only-of-type {\n",
       "        vertical-align: middle;\n",
       "    }\n",
       "\n",
       "    .dataframe tbody tr th {\n",
       "        vertical-align: top;\n",
       "    }\n",
       "\n",
       "    .dataframe thead th {\n",
       "        text-align: right;\n",
       "    }\n",
       "</style>\n",
       "<table border=\"1\" class=\"dataframe\">\n",
       "  <thead>\n",
       "    <tr style=\"text-align: right;\">\n",
       "      <th></th>\n",
       "      <th>Model</th>\n",
       "      <th>MAE</th>\n",
       "      <th>MSE</th>\n",
       "      <th>RMSE</th>\n",
       "      <th>R2 Square</th>\n",
       "      <th>Cross Validation</th>\n",
       "    </tr>\n",
       "  </thead>\n",
       "  <tbody>\n",
       "    <tr>\n",
       "      <th>0</th>\n",
       "      <td>Xgboost Regression</td>\n",
       "      <td>0.344747</td>\n",
       "      <td>0.348965</td>\n",
       "      <td>0.590732</td>\n",
       "      <td>0.994685</td>\n",
       "      <td>0.981858</td>\n",
       "    </tr>\n",
       "  </tbody>\n",
       "</table>\n",
       "</div>"
      ],
      "text/plain": [
       "                Model       MAE       MSE      RMSE  R2 Square  \\\n",
       "0  Xgboost Regression  0.344747  0.348965  0.590732   0.994685   \n",
       "\n",
       "   Cross Validation  \n",
       "0          0.981858  "
      ]
     },
     "execution_count": 13,
     "metadata": {},
     "output_type": "execute_result"
    }
   ],
   "source": [
    "results_df_2"
   ]
  },
  {
   "cell_type": "code",
   "execution_count": null,
   "id": "999218c7",
   "metadata": {
    "papermill": {
     "duration": 0.00477,
     "end_time": "2022-08-27T15:08:28.122850",
     "exception": false,
     "start_time": "2022-08-27T15:08:28.118080",
     "status": "completed"
    },
    "tags": []
   },
   "outputs": [],
   "source": []
  },
  {
   "cell_type": "code",
   "execution_count": null,
   "id": "e2cd2f2b",
   "metadata": {
    "papermill": {
     "duration": 0.004793,
     "end_time": "2022-08-27T15:08:28.132051",
     "exception": false,
     "start_time": "2022-08-27T15:08:28.127258",
     "status": "completed"
    },
    "tags": []
   },
   "outputs": [],
   "source": []
  },
  {
   "cell_type": "code",
   "execution_count": null,
   "id": "7532cb72",
   "metadata": {
    "papermill": {
     "duration": 0.004437,
     "end_time": "2022-08-27T15:08:28.141439",
     "exception": false,
     "start_time": "2022-08-27T15:08:28.137002",
     "status": "completed"
    },
    "tags": []
   },
   "outputs": [],
   "source": []
  }
 ],
 "metadata": {
  "kernelspec": {
   "display_name": "Python 3",
   "language": "python",
   "name": "python3"
  },
  "language_info": {
   "codemirror_mode": {
    "name": "ipython",
    "version": 3
   },
   "file_extension": ".py",
   "mimetype": "text/x-python",
   "name": "python",
   "nbconvert_exporter": "python",
   "pygments_lexer": "ipython3",
   "version": "3.7.12"
  },
  "papermill": {
   "default_parameters": {},
   "duration": 20690.610761,
   "end_time": "2022-08-27T15:08:29.704723",
   "environment_variables": {},
   "exception": null,
   "input_path": "__notebook__.ipynb",
   "output_path": "__notebook__.ipynb",
   "parameters": {},
   "start_time": "2022-08-27T09:23:39.093962",
   "version": "2.3.4"
  }
 },
 "nbformat": 4,
 "nbformat_minor": 5
}
